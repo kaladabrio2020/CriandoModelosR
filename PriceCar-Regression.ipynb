{
 "cells": [
  {
   "cell_type": "markdown",
   "metadata": {},
   "source": [
    "## Price Car Prediction - Regression"
   ]
  },
  {
   "cell_type": "code",
   "execution_count": 2,
   "metadata": {
    "vscode": {
     "languageId": "r"
    }
   },
   "outputs": [],
   "source": [
    "# Importando bibliotecas\n",
    "library(zoo)\n",
    "library(data.table)\n",
    "library(ggplot2)"
   ]
  },
  {
   "cell_type": "markdown",
   "metadata": {},
   "source": [
    "Lendo dataset"
   ]
  },
  {
   "cell_type": "code",
   "execution_count": 4,
   "metadata": {
    "vscode": {
     "languageId": "r"
    }
   },
   "outputs": [
    {
     "data": {
      "text/html": [
       "<table class=\"dataframe\">\n",
       "<caption>A data.table: 2 × 18</caption>\n",
       "<thead>\n",
       "\t<tr><th scope=col>ID</th><th scope=col>Price</th><th scope=col>Levy</th><th scope=col>Manufacturer</th><th scope=col>Model</th><th scope=col>Prod. year</th><th scope=col>Category</th><th scope=col>Leather interior</th><th scope=col>Fuel type</th><th scope=col>Engine volume</th><th scope=col>Mileage</th><th scope=col>Cylinders</th><th scope=col>Gear box type</th><th scope=col>Drive wheels</th><th scope=col>Doors</th><th scope=col>Wheel</th><th scope=col>Color</th><th scope=col>Airbags</th></tr>\n",
       "\t<tr><th scope=col>&lt;int&gt;</th><th scope=col>&lt;int&gt;</th><th scope=col>&lt;chr&gt;</th><th scope=col>&lt;chr&gt;</th><th scope=col>&lt;chr&gt;</th><th scope=col>&lt;int&gt;</th><th scope=col>&lt;chr&gt;</th><th scope=col>&lt;chr&gt;</th><th scope=col>&lt;chr&gt;</th><th scope=col>&lt;chr&gt;</th><th scope=col>&lt;chr&gt;</th><th scope=col>&lt;dbl&gt;</th><th scope=col>&lt;chr&gt;</th><th scope=col>&lt;chr&gt;</th><th scope=col>&lt;chr&gt;</th><th scope=col>&lt;chr&gt;</th><th scope=col>&lt;chr&gt;</th><th scope=col>&lt;int&gt;</th></tr>\n",
       "</thead>\n",
       "<tbody>\n",
       "\t<tr><td>45654403</td><td>13328</td><td>1399</td><td>LEXUS    </td><td>RX 450 </td><td>2010</td><td>Jeep</td><td>Yes</td><td>Hybrid</td><td>3.5</td><td>186005 km</td><td>6</td><td>Automatic</td><td>4x4</td><td>04-May</td><td>Left wheel</td><td>Silver</td><td>12</td></tr>\n",
       "\t<tr><td>44731507</td><td>16621</td><td>1018</td><td>CHEVROLET</td><td>Equinox</td><td>2011</td><td>Jeep</td><td>No </td><td>Petrol</td><td>3  </td><td>192000 km</td><td>6</td><td>Tiptronic</td><td>4x4</td><td>04-May</td><td>Left wheel</td><td>Black </td><td> 8</td></tr>\n",
       "</tbody>\n",
       "</table>\n"
      ],
      "text/latex": [
       "A data.table: 2 × 18\n",
       "\\begin{tabular}{llllllllllllllllll}\n",
       " ID & Price & Levy & Manufacturer & Model & Prod. year & Category & Leather interior & Fuel type & Engine volume & Mileage & Cylinders & Gear box type & Drive wheels & Doors & Wheel & Color & Airbags\\\\\n",
       " <int> & <int> & <chr> & <chr> & <chr> & <int> & <chr> & <chr> & <chr> & <chr> & <chr> & <dbl> & <chr> & <chr> & <chr> & <chr> & <chr> & <int>\\\\\n",
       "\\hline\n",
       "\t 45654403 & 13328 & 1399 & LEXUS     & RX 450  & 2010 & Jeep & Yes & Hybrid & 3.5 & 186005 km & 6 & Automatic & 4x4 & 04-May & Left wheel & Silver & 12\\\\\n",
       "\t 44731507 & 16621 & 1018 & CHEVROLET & Equinox & 2011 & Jeep & No  & Petrol & 3   & 192000 km & 6 & Tiptronic & 4x4 & 04-May & Left wheel & Black  &  8\\\\\n",
       "\\end{tabular}\n"
      ],
      "text/markdown": [
       "\n",
       "A data.table: 2 × 18\n",
       "\n",
       "| ID &lt;int&gt; | Price &lt;int&gt; | Levy &lt;chr&gt; | Manufacturer &lt;chr&gt; | Model &lt;chr&gt; | Prod. year &lt;int&gt; | Category &lt;chr&gt; | Leather interior &lt;chr&gt; | Fuel type &lt;chr&gt; | Engine volume &lt;chr&gt; | Mileage &lt;chr&gt; | Cylinders &lt;dbl&gt; | Gear box type &lt;chr&gt; | Drive wheels &lt;chr&gt; | Doors &lt;chr&gt; | Wheel &lt;chr&gt; | Color &lt;chr&gt; | Airbags &lt;int&gt; |\n",
       "|---|---|---|---|---|---|---|---|---|---|---|---|---|---|---|---|---|---|\n",
       "| 45654403 | 13328 | 1399 | LEXUS     | RX 450  | 2010 | Jeep | Yes | Hybrid | 3.5 | 186005 km | 6 | Automatic | 4x4 | 04-May | Left wheel | Silver | 12 |\n",
       "| 44731507 | 16621 | 1018 | CHEVROLET | Equinox | 2011 | Jeep | No  | Petrol | 3   | 192000 km | 6 | Tiptronic | 4x4 | 04-May | Left wheel | Black  |  8 |\n",
       "\n"
      ],
      "text/plain": [
       "  ID       Price Levy Manufacturer Model   Prod. year Category Leather interior\n",
       "1 45654403 13328 1399 LEXUS        RX 450  2010       Jeep     Yes             \n",
       "2 44731507 16621 1018 CHEVROLET    Equinox 2011       Jeep     No              \n",
       "  Fuel type Engine volume Mileage   Cylinders Gear box type Drive wheels Doors \n",
       "1 Hybrid    3.5           186005 km 6         Automatic     4x4          04-May\n",
       "2 Petrol    3             192000 km 6         Tiptronic     4x4          04-May\n",
       "  Wheel      Color  Airbags\n",
       "1 Left wheel Silver 12     \n",
       "2 Left wheel Black   8     "
      ]
     },
     "metadata": {},
     "output_type": "display_data"
    }
   ],
   "source": [
    "data = fread(input = \"dataset/car_price_prediction.csv\", header = TRUE, sep = \",\")\n",
    "\n",
    "head(data,n = 2)"
   ]
  },
  {
   "cell_type": "code",
   "execution_count": null,
   "metadata": {
    "vscode": {
     "languageId": "r"
    }
   },
   "outputs": [],
   "source": []
  }
 ],
 "metadata": {
  "kernelspec": {
   "display_name": "R",
   "language": "R",
   "name": "ir"
  },
  "language_info": {
   "codemirror_mode": "r",
   "file_extension": ".r",
   "mimetype": "text/x-r-source",
   "name": "R",
   "pygments_lexer": "r",
   "version": "4.4.1"
  }
 },
 "nbformat": 4,
 "nbformat_minor": 2
}
